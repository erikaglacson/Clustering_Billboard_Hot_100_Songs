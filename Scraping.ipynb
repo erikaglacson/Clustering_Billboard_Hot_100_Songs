{
 "cells": [
  {
   "cell_type": "code",
   "execution_count": 41,
   "id": "c75b9128",
   "metadata": {
    "ExecuteTime": {
     "end_time": "2022-11-30T03:46:11.333941Z",
     "start_time": "2022-11-30T03:46:11.309508Z"
    }
   },
   "outputs": [],
   "source": [
    "# pip install lyricsgenius"
   ]
  },
  {
   "cell_type": "code",
   "execution_count": 2,
   "id": "c0754a94",
   "metadata": {
    "ExecuteTime": {
     "end_time": "2022-11-29T17:39:10.114167Z",
     "start_time": "2022-11-29T17:39:09.860232Z"
    }
   },
   "outputs": [],
   "source": [
    "from lyricsgenius import Genius\n",
    "\n",
    "genius = Genius(access_token='LTWI3Y78oDOqchjeB0VjDD7pZWGXqrle45YPv8QIcyzQtMWPMg6RHqbXfWleen6D',\n",
    "                timeout=100)\n",
    "genius.remove_section_headers = True"
   ]
  },
  {
   "cell_type": "code",
   "execution_count": 3,
   "id": "cbe170c5",
   "metadata": {
    "ExecuteTime": {
     "end_time": "2022-11-29T17:39:11.197717Z",
     "start_time": "2022-11-29T17:39:10.121930Z"
    }
   },
   "outputs": [],
   "source": [
    "import pandas as pd\n",
    "import requests\n",
    "from bs4 import BeautifulSoup\n",
    "from urllib.parse import urljoin\n",
    "from tqdm.notebook import tqdm"
   ]
  },
  {
   "cell_type": "code",
   "execution_count": 4,
   "id": "fd04b32b",
   "metadata": {
    "ExecuteTime": {
     "end_time": "2022-11-29T17:39:11.210004Z",
     "start_time": "2022-11-29T17:39:11.204427Z"
    },
    "scrolled": false
   },
   "outputs": [],
   "source": [
    "def get_top_100(soup):\n",
    "    songs = [x.text.strip() for x in soup.select('li .c-title')]\n",
    "    artists = [x.text.strip() for x in soup.select('li .c-title ~ .c-label')]\n",
    "    return {rank:{'song':song, 'artist':artist} for rank, (song, artist) in enumerate(zip(songs,artists), start=1)}"
   ]
  },
  {
   "cell_type": "code",
   "execution_count": 5,
   "id": "cc1141f1",
   "metadata": {
    "ExecuteTime": {
     "end_time": "2022-11-29T17:39:11.219691Z",
     "start_time": "2022-11-29T17:39:11.216072Z"
    }
   },
   "outputs": [],
   "source": [
    "# proxies = {'http': 'http://206.189.157.23'}\n",
    "\n",
    "# years = range(2006,2022)\n",
    "# song_data = {}\n",
    "# for year in years:\n",
    "#     url = f'https://www.billboard.com/charts/year-end/{year}/hot-100-songs/'\n",
    "#     soup = BeautifulSoup(requests.get(url, proxies=proxies).content)\n",
    "#     song_data[year] = get_top_100(soup)"
   ]
  },
  {
   "cell_type": "code",
   "execution_count": 7,
   "id": "2cafd9e9",
   "metadata": {
    "ExecuteTime": {
     "end_time": "2022-11-29T17:39:11.244078Z",
     "start_time": "2022-11-29T17:39:11.239469Z"
    },
    "scrolled": false
   },
   "outputs": [],
   "source": [
    "# df_all_years = pd.DataFrame()\n",
    "# for year in years:\n",
    "#     df_year = pd.DataFrame(song_data[year]).T.reset_index().rename(columns={'index':'rank'})\n",
    "#     df_year['year'] = year\n",
    "#     df_all_years = pd.concat([df_all_years, df_year])\n",
    "# df_all_years"
   ]
  },
  {
   "cell_type": "code",
   "execution_count": 9,
   "id": "827c139f",
   "metadata": {
    "ExecuteTime": {
     "end_time": "2022-11-29T17:39:11.264376Z",
     "start_time": "2022-11-29T17:39:11.259308Z"
    }
   },
   "outputs": [],
   "source": [
    "# df_all_years.to_pickle(\"all_songs.pkl\")"
   ]
  },
  {
   "cell_type": "code",
   "execution_count": 40,
   "id": "ece5b325",
   "metadata": {
    "ExecuteTime": {
     "end_time": "2022-11-29T17:49:46.154220Z",
     "start_time": "2022-11-29T17:49:46.128267Z"
    }
   },
   "outputs": [
    {
     "data": {
      "text/html": [
       "<div>\n",
       "<style scoped>\n",
       "    .dataframe tbody tr th:only-of-type {\n",
       "        vertical-align: middle;\n",
       "    }\n",
       "\n",
       "    .dataframe tbody tr th {\n",
       "        vertical-align: top;\n",
       "    }\n",
       "\n",
       "    .dataframe thead th {\n",
       "        text-align: right;\n",
       "    }\n",
       "</style>\n",
       "<table border=\"1\" class=\"dataframe\">\n",
       "  <thead>\n",
       "    <tr style=\"text-align: right;\">\n",
       "      <th></th>\n",
       "      <th>rank</th>\n",
       "      <th>song</th>\n",
       "      <th>artist</th>\n",
       "      <th>year</th>\n",
       "    </tr>\n",
       "  </thead>\n",
       "  <tbody>\n",
       "    <tr>\n",
       "      <th>0</th>\n",
       "      <td>1</td>\n",
       "      <td>Bad Day</td>\n",
       "      <td>Daniel Powter</td>\n",
       "      <td>2006</td>\n",
       "    </tr>\n",
       "    <tr>\n",
       "      <th>1</th>\n",
       "      <td>2</td>\n",
       "      <td>Temperature</td>\n",
       "      <td>Sean Paul</td>\n",
       "      <td>2006</td>\n",
       "    </tr>\n",
       "    <tr>\n",
       "      <th>2</th>\n",
       "      <td>3</td>\n",
       "      <td>Promiscuous</td>\n",
       "      <td>Nelly Furtado Featuring Timbaland</td>\n",
       "      <td>2006</td>\n",
       "    </tr>\n",
       "    <tr>\n",
       "      <th>3</th>\n",
       "      <td>4</td>\n",
       "      <td>You're Beautiful</td>\n",
       "      <td>James Blunt</td>\n",
       "      <td>2006</td>\n",
       "    </tr>\n",
       "    <tr>\n",
       "      <th>4</th>\n",
       "      <td>5</td>\n",
       "      <td>Hips Don't Lie</td>\n",
       "      <td>Shakira Featuring Wyclef Jean</td>\n",
       "      <td>2006</td>\n",
       "    </tr>\n",
       "    <tr>\n",
       "      <th>...</th>\n",
       "      <td>...</td>\n",
       "      <td>...</td>\n",
       "      <td>...</td>\n",
       "      <td>...</td>\n",
       "    </tr>\n",
       "    <tr>\n",
       "      <th>95</th>\n",
       "      <td>96</td>\n",
       "      <td>Things A Man Oughta Know</td>\n",
       "      <td>Lainey Wilson</td>\n",
       "      <td>2021</td>\n",
       "    </tr>\n",
       "    <tr>\n",
       "      <th>96</th>\n",
       "      <td>97</td>\n",
       "      <td>Throat Baby (Go Baby)</td>\n",
       "      <td>BRS Kash</td>\n",
       "      <td>2021</td>\n",
       "    </tr>\n",
       "    <tr>\n",
       "      <th>97</th>\n",
       "      <td>98</td>\n",
       "      <td>Tombstone</td>\n",
       "      <td>Rod Wave</td>\n",
       "      <td>2021</td>\n",
       "    </tr>\n",
       "    <tr>\n",
       "      <th>98</th>\n",
       "      <td>99</td>\n",
       "      <td>Drinkin' Beer. Talkin' God. Amen.</td>\n",
       "      <td>Chase Rice Featuring Florida Georgia Line</td>\n",
       "      <td>2021</td>\n",
       "    </tr>\n",
       "    <tr>\n",
       "      <th>99</th>\n",
       "      <td>100</td>\n",
       "      <td>Todo de Ti</td>\n",
       "      <td>Rauw Alejandro</td>\n",
       "      <td>2021</td>\n",
       "    </tr>\n",
       "  </tbody>\n",
       "</table>\n",
       "<p>1598 rows × 4 columns</p>\n",
       "</div>"
      ],
      "text/plain": [
       "    rank                               song  \\\n",
       "0      1                            Bad Day   \n",
       "1      2                        Temperature   \n",
       "2      3                        Promiscuous   \n",
       "3      4                   You're Beautiful   \n",
       "4      5                     Hips Don't Lie   \n",
       "..   ...                                ...   \n",
       "95    96           Things A Man Oughta Know   \n",
       "96    97              Throat Baby (Go Baby)   \n",
       "97    98                          Tombstone   \n",
       "98    99  Drinkin' Beer. Talkin' God. Amen.   \n",
       "99   100                         Todo de Ti   \n",
       "\n",
       "                                       artist  year  \n",
       "0                               Daniel Powter  2006  \n",
       "1                                   Sean Paul  2006  \n",
       "2           Nelly Furtado Featuring Timbaland  2006  \n",
       "3                                 James Blunt  2006  \n",
       "4               Shakira Featuring Wyclef Jean  2006  \n",
       "..                                        ...   ...  \n",
       "95                              Lainey Wilson  2021  \n",
       "96                                   BRS Kash  2021  \n",
       "97                                   Rod Wave  2021  \n",
       "98  Chase Rice Featuring Florida Georgia Line  2021  \n",
       "99                             Rauw Alejandro  2021  \n",
       "\n",
       "[1598 rows x 4 columns]"
      ]
     },
     "execution_count": 40,
     "metadata": {},
     "output_type": "execute_result"
    }
   ],
   "source": [
    "df_all_years = pd.read_pickle('all_songs.pkl')\n",
    "df_all_years"
   ]
  },
  {
   "cell_type": "code",
   "execution_count": 11,
   "id": "355f84e1",
   "metadata": {
    "ExecuteTime": {
     "end_time": "2022-11-29T17:39:11.309422Z",
     "start_time": "2022-11-29T17:39:11.302827Z"
    }
   },
   "outputs": [],
   "source": [
    "import re\n",
    "\n",
    "def preprocess_lyrics(lyrics):\n",
    "    \n",
    "    # Convert to lowercase\n",
    "    lyrics = lyrics.lower()\n",
    "    \n",
    "    # Removes titles\n",
    "    lyrics = lyrics.split('yrics\\n', 1)[-1]\n",
    "    \n",
    "    # Removes 'Embed from the end'\n",
    "    lyrics = lyrics.rsplit('embed', 1)[0]\n",
    "    \n",
    "    # Removes digits before embed\n",
    "    lyrics = lyrics.rstrip('1234567890')\n",
    "    \n",
    "    # Removes 'you might also like'\n",
    "    lyrics = lyrics.rsplit('you might also like', 1)[0]\n",
    "    \n",
    "    # Replace dash with space\n",
    "    lyrics = (re.sub(\"[-]\", \" \", lyrics))\n",
    "    \n",
    "    # Remove Non-letters\n",
    "    lyrics = (re.sub(\"[^\\sA-Za-z]\", \"\", lyrics))\n",
    "    \n",
    "    # Standardize whitespace\n",
    "    lyrics = (re.sub(\"[\\s]\", \" \", lyrics))\n",
    "    \n",
    "    return lyrics"
   ]
  },
  {
   "cell_type": "code",
   "execution_count": 12,
   "id": "c3869ca4",
   "metadata": {
    "ExecuteTime": {
     "end_time": "2022-11-29T17:39:11.320742Z",
     "start_time": "2022-11-29T17:39:11.313288Z"
    }
   },
   "outputs": [],
   "source": [
    "def preprocess_query(query):\n",
    "    \n",
    "    # Convert to lowercase\n",
    "    query = query.lower()\n",
    "    \n",
    "    # Remove at end\n",
    "    query = query.rsplit('featuring', 1)[0]\n",
    "    query = query.rsplit(' x', 1)[0]\n",
    "    query = query.rsplit(' /', 1)[0]\n",
    "    \n",
    "    # Replace\n",
    "    query = (re.sub(\"the black\", \"black\", query))\n",
    "    query = (re.sub(\"f\\*\\*k\", \"fuck\", query))\n",
    "    query = (re.sub(\"ni\\*\\*a\", \"nigga\", query))\n",
    "    query = (re.sub(\"b\\*\\*\\*\\*\", \"bitch\", query))\n",
    "    query = (re.sub(\"part 2\", \"pt 2\", query))\n",
    "    query = (re.sub(\"p\\*\\$\\$y\", \"pussy\", query))\n",
    "    query = (re.sub(\"ily surf\", \"ily (i love you baby) surf\", query))\n",
    "    query = (re.sub(\"\\(spider-man: into the spider-verse\\)\", \"\", query))\n",
    "    query = (re.sub(\"\\(fifty shades darker\\)\", \"\", query))\n",
    "    query = (re.sub(\"it ain't me\", \"it aint me\", query))\n",
    "    query = (re.sub(\"tik tok ke\\$ha\", \"tik tok kesha\", query))\n",
    "    query = (re.sub(\"jay-z, rihanna\", \"jayz\", query))\n",
    "    \n",
    "    return query"
   ]
  },
  {
   "cell_type": "code",
   "execution_count": 13,
   "id": "726d9f32",
   "metadata": {
    "ExecuteTime": {
     "end_time": "2022-11-29T17:39:11.328160Z",
     "start_time": "2022-11-29T17:39:11.323294Z"
    }
   },
   "outputs": [],
   "source": [
    "def get_lyrics(query):\n",
    "    song_id = genius.search_songs(f\"{query}\",\n",
    "                                  per_page=1,\n",
    "                                  page=1)['hits'][0]['result']['id']\n",
    "    print(f'Got lyrics from query: {query}')\n",
    "    return genius.lyrics(song_id)"
   ]
  },
  {
   "cell_type": "code",
   "execution_count": 14,
   "id": "e2c2a909",
   "metadata": {
    "ExecuteTime": {
     "end_time": "2022-11-29T17:39:11.334695Z",
     "start_time": "2022-11-29T17:39:11.330601Z"
    },
    "scrolled": false
   },
   "outputs": [],
   "source": [
    "df_test = df_all_years.copy()\n",
    "df_test['query'] = (df_test['song'] + ' ' + df_test['artist'].apply(lambda x: \" \".join(x.split()[:2])))\n",
    "df_test['query'] = df_test['query'].apply(preprocess_query)"
   ]
  },
  {
   "cell_type": "code",
   "execution_count": 16,
   "id": "92265a61",
   "metadata": {
    "ExecuteTime": {
     "end_time": "2022-11-29T17:39:11.354037Z",
     "start_time": "2022-11-29T17:39:11.351316Z"
    },
    "scrolled": false
   },
   "outputs": [],
   "source": [
    "# df_2006 = df_test[df_test['year']==2006].copy()\n",
    "# df_2007 = df_test[df_test['year']==2007].copy()\n",
    "# df_2008 = df_test[df_test['year']==2008].copy()\n",
    "# df_2009 = df_test[df_test['year']==2009].copy()\n",
    "# df_2010 = df_test[df_test['year']==2010].copy()\n",
    "# df_2011 = df_test[df_test['year']==2011].copy()\n",
    "# df_2012 = df_test[df_test['year']==2012].copy()\n",
    "# df_2013 = df_test[df_test['year']==2013].copy()\n",
    "# df_2014 = df_test[df_test['year']==2014].copy()\n",
    "# df_2015 = df_test[df_test['year']==2015].copy()\n",
    "# df_2015 = df_test[df_test['year']==2015].copy()\n",
    "# df_2016 = df_test[df_test['year']==2016].copy()\n",
    "# df_2017 = df_test[df_test['year']==2017].copy()\n",
    "# df_2018 = df_test[df_test['year']==2018].copy()\n",
    "# df_2019 = df_test[df_test['year']==2019].copy()\n",
    "# df_2020 = df_test[df_test['year']==2020].copy()\n",
    "# df_2021 = df_test[df_test['year']==2021].copy()\n",
    "\n",
    "# df_2006"
   ]
  },
  {
   "cell_type": "code",
   "execution_count": 17,
   "id": "00f42dde",
   "metadata": {
    "ExecuteTime": {
     "end_time": "2022-11-29T17:39:11.385698Z",
     "start_time": "2022-11-29T17:39:11.355970Z"
    }
   },
   "outputs": [],
   "source": [
    "df_2006 = pd.read_pickle('songs_2006.pkl')\n",
    "df_2007 = pd.read_pickle('songs_2007.pkl')\n",
    "df_2008 = pd.read_pickle('songs_2008.pkl')\n",
    "df_2009 = pd.read_pickle('songs_2009.pkl')\n",
    "df_2010 = pd.read_pickle('songs_2010.pkl')\n",
    "df_2011 = pd.read_pickle('songs_2011.pkl')\n",
    "df_2012 = pd.read_pickle('songs_2012.pkl')\n",
    "df_2013 = pd.read_pickle('songs_2013.pkl')\n",
    "df_2014 = pd.read_pickle('songs_2014.pkl')\n",
    "df_2015 = pd.read_pickle('songs_2015.pkl')\n",
    "df_2015 = pd.read_pickle('songs_2015.pkl')\n",
    "df_2016 = pd.read_pickle('songs_2016.pkl')\n",
    "df_2017 = pd.read_pickle('songs_2017.pkl')\n",
    "df_2018 = pd.read_pickle('songs_2018.pkl')\n",
    "df_2019 = pd.read_pickle('songs_2019.pkl')\n",
    "df_2020 = pd.read_pickle('songs_2020.pkl')\n",
    "df_2021 = pd.read_pickle('songs_2021.pkl')"
   ]
  },
  {
   "cell_type": "code",
   "execution_count": 58,
   "id": "bd8ef20f",
   "metadata": {
    "ExecuteTime": {
     "end_time": "2022-11-30T03:51:06.071516Z",
     "start_time": "2022-11-30T03:51:06.057122Z"
    },
    "scrolled": false
   },
   "outputs": [],
   "source": [
    "# df_2006['lyrics'] = df_2006['query'].apply(get_lyrics)\n",
    "# df_2006.to_pickle('songs_2006.pkl')\n",
    "\n",
    "# df_2007['lyrics'] = df_2007['query'].apply(get_lyrics)\n",
    "# df_2007.to_pickle('songs_2007.pkl')\n",
    "\n",
    "# df_2008['lyrics'] = df_2008['query'].apply(get_lyrics)\n",
    "# df_2008.to_pickle('songs_2008.pkl')\n",
    "\n",
    "# df_2009['lyrics'] = df_2009['query'].apply(get_lyrics)\n",
    "# df_2009.to_pickle('songs_2009.pkl')\n",
    "\n",
    "# df_2010['lyrics'] = df_2010['query'].apply(get_lyrics)\n",
    "# df_2010.to_pickle('songs_2010.pkl')\n",
    "\n",
    "# df_2011['lyrics'] = df_2011['query'].apply(get_lyrics)\n",
    "# df_2011.to_pickle('songs_2011.pkl')\n",
    "\n",
    "# df_2012['lyrics'] = df_2012['query'].apply(get_lyrics)\n",
    "# df_2012.to_pickle('songs_2012.pkl')\n",
    "\n",
    "# df_2013['lyrics'] = df_2013['query'].apply(get_lyrics)\n",
    "# df_2013.to_pickle('songs_2013.pkl')\n",
    "\n",
    "# df_2014['lyrics'] = df_2014['query'].apply(get_lyrics)\n",
    "# df_2014.to_pickle('songs_2014.pkl')\n",
    "\n",
    "# df_2015['lyrics'] = df_2015['query'].apply(get_lyrics)\n",
    "# df_2015.to_pickle('songs_2015.pkl')\n",
    "\n",
    "# df_2016['lyrics'] = df_2016['query'].apply(get_lyrics)\n",
    "# df_2016.to_pickle('songs_2016.pkl')\n",
    "\n",
    "# df_2017['lyrics'] = df_2017['query'].apply(get_lyrics)\n",
    "# df_2017.to_pickle('songs_2017.pkl')\n",
    "\n",
    "# df_2018['lyrics'] = df_2018['query'].apply(get_lyrics)\n",
    "# df_2018.to_pickle('songs_2018.pkl')\n",
    "\n",
    "# df_2019['lyrics'] = df_2019['query'].apply(get_lyrics)\n",
    "# df_2019.to_pickle('songs_2019.pkl')\n",
    "\n",
    "# df_2020['lyrics'] = df_2020['query'].apply(get_lyrics)\n",
    "# df_2020.to_pickle('songs_2020.pkl')\n",
    "\n",
    "# df_2021['lyrics'] = df_2021['query'].apply(get_lyrics)\n",
    "# df_2021.to_pickle('songs_2021.pkl')"
   ]
  },
  {
   "cell_type": "code",
   "execution_count": 57,
   "id": "bc61b279",
   "metadata": {
    "ExecuteTime": {
     "end_time": "2022-11-30T03:50:43.407941Z",
     "start_time": "2022-11-30T03:50:43.395442Z"
    }
   },
   "outputs": [
    {
     "data": {
      "text/plain": [
       "rank                                                      6\n",
       "song                                              Airplanes\n",
       "artist                      B.o.B Featuring Hayley Williams\n",
       "year                                                   2010\n",
       "query                             Airplanes B.o.B Featuring\n",
       "lyrics    TranslationsFrançaisAirplanes Lyrics\\nCan we p...\n",
       "Name: 5, dtype: object"
      ]
     },
     "execution_count": 57,
     "metadata": {},
     "output_type": "execute_result"
    }
   ],
   "source": [
    "df_2010.loc[5]"
   ]
  },
  {
   "cell_type": "code",
   "execution_count": 59,
   "id": "f13adc6f",
   "metadata": {
    "ExecuteTime": {
     "end_time": "2022-11-30T03:51:25.930702Z",
     "start_time": "2022-11-30T03:51:25.902598Z"
    }
   },
   "outputs": [
    {
     "data": {
      "text/html": [
       "<div>\n",
       "<style scoped>\n",
       "    .dataframe tbody tr th:only-of-type {\n",
       "        vertical-align: middle;\n",
       "    }\n",
       "\n",
       "    .dataframe tbody tr th {\n",
       "        vertical-align: top;\n",
       "    }\n",
       "\n",
       "    .dataframe thead th {\n",
       "        text-align: right;\n",
       "    }\n",
       "</style>\n",
       "<table border=\"1\" class=\"dataframe\">\n",
       "  <thead>\n",
       "    <tr style=\"text-align: right;\">\n",
       "      <th></th>\n",
       "      <th>rank</th>\n",
       "      <th>song</th>\n",
       "      <th>artist</th>\n",
       "      <th>year</th>\n",
       "      <th>query</th>\n",
       "      <th>lyrics</th>\n",
       "    </tr>\n",
       "  </thead>\n",
       "  <tbody>\n",
       "    <tr>\n",
       "      <th>0</th>\n",
       "      <td>1</td>\n",
       "      <td>TiK ToK</td>\n",
       "      <td>Ke$ha</td>\n",
       "      <td>2010</td>\n",
       "      <td>TiK ToK Ke$ha</td>\n",
       "      <td>TranslationsPortuguêsTiK ToK Lyrics\\nWake up i...</td>\n",
       "    </tr>\n",
       "    <tr>\n",
       "      <th>1</th>\n",
       "      <td>2</td>\n",
       "      <td>Need You Now</td>\n",
       "      <td>Lady Antebellum</td>\n",
       "      <td>2010</td>\n",
       "      <td>Need You Now Lady Antebellum</td>\n",
       "      <td>Need You Now Lyrics\\n\"Hey, sorry I missed your...</td>\n",
       "    </tr>\n",
       "    <tr>\n",
       "      <th>2</th>\n",
       "      <td>3</td>\n",
       "      <td>Hey, Soul Sister</td>\n",
       "      <td>Train</td>\n",
       "      <td>2010</td>\n",
       "      <td>Hey, Soul Sister Train</td>\n",
       "      <td>Hey, Soul Sister Lyrics\\nHey\\nHe-e-e-e-ey\\nHe-...</td>\n",
       "    </tr>\n",
       "    <tr>\n",
       "      <th>3</th>\n",
       "      <td>4</td>\n",
       "      <td>California Gurls</td>\n",
       "      <td>Katy Perry Featuring Snoop Dogg</td>\n",
       "      <td>2010</td>\n",
       "      <td>California Gurls Katy Perry</td>\n",
       "      <td>TranslationsEspañolPortuguêsCalifornia Gurls L...</td>\n",
       "    </tr>\n",
       "    <tr>\n",
       "      <th>4</th>\n",
       "      <td>5</td>\n",
       "      <td>OMG</td>\n",
       "      <td>Usher Featuring will.i.am</td>\n",
       "      <td>2010</td>\n",
       "      <td>OMG Usher Featuring</td>\n",
       "      <td>OMG Lyrics\\nOh my gosh\\nBaby let me\\nI did it ...</td>\n",
       "    </tr>\n",
       "    <tr>\n",
       "      <th>...</th>\n",
       "      <td>...</td>\n",
       "      <td>...</td>\n",
       "      <td>...</td>\n",
       "      <td>...</td>\n",
       "      <td>...</td>\n",
       "      <td>...</td>\n",
       "    </tr>\n",
       "    <tr>\n",
       "      <th>95</th>\n",
       "      <td>96</td>\n",
       "      <td>Life After You</td>\n",
       "      <td>Daughtry</td>\n",
       "      <td>2010</td>\n",
       "      <td>Life After You Daughtry</td>\n",
       "      <td>Life After You Lyrics\\nTen miles from town and...</td>\n",
       "    </tr>\n",
       "    <tr>\n",
       "      <th>96</th>\n",
       "      <td>97</td>\n",
       "      <td>Smile</td>\n",
       "      <td>Uncle Kracker</td>\n",
       "      <td>2010</td>\n",
       "      <td>Smile Uncle Kracker</td>\n",
       "      <td>Smile Lyrics\\nYou're better than the best\\nI'm...</td>\n",
       "    </tr>\n",
       "    <tr>\n",
       "      <th>97</th>\n",
       "      <td>98</td>\n",
       "      <td>Teach Me How To Dougie</td>\n",
       "      <td>Cali Swag District</td>\n",
       "      <td>2010</td>\n",
       "      <td>Teach Me How To Dougie Cali Swag</td>\n",
       "      <td>Teach Me How to Dougie Lyrics\\nAy, ay\\nTeach m...</td>\n",
       "    </tr>\n",
       "    <tr>\n",
       "      <th>98</th>\n",
       "      <td>99</td>\n",
       "      <td>Try Sleeping With A Broken Heart</td>\n",
       "      <td>Alicia Keys</td>\n",
       "      <td>2010</td>\n",
       "      <td>Try Sleeping With A Broken Heart Alicia Keys</td>\n",
       "      <td>Try Sleeping with a Broken Heart Lyrics\\nLet's...</td>\n",
       "    </tr>\n",
       "    <tr>\n",
       "      <th>99</th>\n",
       "      <td>100</td>\n",
       "      <td>Lover, Lover</td>\n",
       "      <td>Jerrod Niemann</td>\n",
       "      <td>2010</td>\n",
       "      <td>Lover, Lover Jerrod Niemann</td>\n",
       "      <td>Lover, Lover LyricsWell the truth\\nWell it hur...</td>\n",
       "    </tr>\n",
       "  </tbody>\n",
       "</table>\n",
       "<p>100 rows × 6 columns</p>\n",
       "</div>"
      ],
      "text/plain": [
       "    rank                              song                           artist  \\\n",
       "0      1                           TiK ToK                            Ke$ha   \n",
       "1      2                      Need You Now                  Lady Antebellum   \n",
       "2      3                  Hey, Soul Sister                            Train   \n",
       "3      4                  California Gurls  Katy Perry Featuring Snoop Dogg   \n",
       "4      5                               OMG        Usher Featuring will.i.am   \n",
       "..   ...                               ...                              ...   \n",
       "95    96                    Life After You                         Daughtry   \n",
       "96    97                             Smile                    Uncle Kracker   \n",
       "97    98            Teach Me How To Dougie               Cali Swag District   \n",
       "98    99  Try Sleeping With A Broken Heart                      Alicia Keys   \n",
       "99   100                      Lover, Lover                   Jerrod Niemann   \n",
       "\n",
       "    year                                         query  \\\n",
       "0   2010                                 TiK ToK Ke$ha   \n",
       "1   2010                  Need You Now Lady Antebellum   \n",
       "2   2010                        Hey, Soul Sister Train   \n",
       "3   2010                   California Gurls Katy Perry   \n",
       "4   2010                           OMG Usher Featuring   \n",
       "..   ...                                           ...   \n",
       "95  2010                       Life After You Daughtry   \n",
       "96  2010                           Smile Uncle Kracker   \n",
       "97  2010              Teach Me How To Dougie Cali Swag   \n",
       "98  2010  Try Sleeping With A Broken Heart Alicia Keys   \n",
       "99  2010                   Lover, Lover Jerrod Niemann   \n",
       "\n",
       "                                               lyrics  \n",
       "0   TranslationsPortuguêsTiK ToK Lyrics\\nWake up i...  \n",
       "1   Need You Now Lyrics\\n\"Hey, sorry I missed your...  \n",
       "2   Hey, Soul Sister Lyrics\\nHey\\nHe-e-e-e-ey\\nHe-...  \n",
       "3   TranslationsEspañolPortuguêsCalifornia Gurls L...  \n",
       "4   OMG Lyrics\\nOh my gosh\\nBaby let me\\nI did it ...  \n",
       "..                                                ...  \n",
       "95  Life After You Lyrics\\nTen miles from town and...  \n",
       "96  Smile Lyrics\\nYou're better than the best\\nI'm...  \n",
       "97  Teach Me How to Dougie Lyrics\\nAy, ay\\nTeach m...  \n",
       "98  Try Sleeping with a Broken Heart Lyrics\\nLet's...  \n",
       "99  Lover, Lover LyricsWell the truth\\nWell it hur...  \n",
       "\n",
       "[100 rows x 6 columns]"
      ]
     },
     "execution_count": 59,
     "metadata": {},
     "output_type": "execute_result"
    }
   ],
   "source": [
    "df_2010"
   ]
  },
  {
   "cell_type": "code",
   "execution_count": null,
   "id": "b20cf7dc",
   "metadata": {},
   "outputs": [],
   "source": [
    "# Fixing invalid queries\n",
    "\n",
    "# df_2007.loc[1, 'lyrics'] = get_lyrics('Umbrella Rihanna')\n",
    "# df_2008.loc[37,'query'] = 'Bust It Baby Pt 2 Plies Featuring'\n",
    "# df_2009.loc[30,'query'] = 'Run This Town JayZ'\n",
    "# df_2009.loc[0, 'lyrics'] = get_lyrics('Boom Boom Pow Black')\n",
    "# df_2009.loc[3, 'lyrics'] = get_lyrics('I Gotta Feeling Black')\n",
    "# df_2010.loc[74,'query'] = 'Rock That Body Black Eyed Peas'\n",
    "# df_2010.loc[0, 'lyrics'] = get_lyrics('TiK ToK Kesha')\n",
    "# df_2010.loc[5, 'lyrics'] = get_lyrics('Airplanes B.o.B')\n",
    "# df_2010.loc[10, 'lyrics'] = get_lyrics('Nothin On You B.o.B')\n",
    "# df_2010.loc[62, 'lyrics'] = get_lyrics('Magic B.o.B')\n",
    "# df_2010.loc[6, 'lyrics'] = get_lyrics('Love The Way You Lie Eminem')\n",
    "# df_2010.loc[19, 'lyrics'] = get_lyrics('Imma be')\n",
    "# df_2010.loc[28, 'lyrics'] = get_lyrics('I Gotta Feeling')\n",
    "# df_2010.loc[57, 'lyrics'] = get_lyrics('Meet Me Halfway')\n",
    "# df_2011.loc[17, 'query'] = 'Fuckin Perfect P!nk'\n",
    "# df_2011.loc[1, 'lyrics'] = get_lyrics('Party Rock Anthem LMFAO')\n",
    "# df_2012.loc[28, 'lyrics'] = get_lyrics('Party Rock Anthem LMFAO')\n",
    "# df_2012.loc[39, 'lyrics'] = get_lyrics('Niggas in Paris JayZ')\n",
    "# df_2013.loc[40, 'query'] = 'Fuckin Problems A$AP Rocky'\n",
    "# df_2014.loc[34, 'query'] = 'Drunk In Love Beyonce'\n",
    "# df_2014.loc[15, 'lyrics'] = get_lyrics('The Monster Eminem')\n",
    "# df_2015.loc[47, 'lyrics'] = get_lyrics('Bitch Better Have My Money Rihanna')\n",
    "# df_2016.loc[18, 'query'] = 'Me, Myself & I G-Eazy'\n",
    "# df_2016.loc[3, 'lyrics'] = get_lyrics('Work Rihanna')\n",
    "# df_2016.loc[10, 'lyrics'] = get_lyrics('Cheap Thrills Sia')\n",
    "# df_2016.loc[33, 'lyrics'] = get_lyrics('Broccoli D.R.A.M.')\n",
    "# df_2016.loc[59, 'lyrics'] = get_lyrics('Never Be Like You Flume')\n",
    "# df_2016.loc[81, 'lyrics'] = get_lyrics('Pop Style Drake')\n",
    "# df_2017.loc[5, 'lyrics'] = get_lyrics('Bad And Boujee')\n",
    "# df_2017.loc[25, 'lyrics'] = get_lyrics('I Dont Wanna Live Forever')\n",
    "# df_2017.loc[26, 'lyrics'] = get_lyrics('It Aint Me Kygo')\n",
    "# df_2017.loc[69, 'lyrics'] = get_lyrics('Broccoli D.R.A.M.')\n",
    "# df_2019.loc[1, 'lyrics'] = get_lyrics('Sunflower')\n",
    "# df_2020.loc[4, 'lyrics'] = get_lyrics('Rockstar DaBaby')\n",
    "# df_2020.loc[40, 'lyrics'] = get_lyrics('Laugh Now Cry Later Drake')\n",
    "# df_2020.loc[93, 'lyrics'] = get_lyrics('Pussy Fairy (OTW) Jhene Aiko')\n",
    "# df_2020.loc[94, 'lyrics'] = get_lyrics('ily (i love you baby) Surf Mesa')\n",
    "# df_2021.loc[44, 'lyrics'] = get_lyrics('Laugh Now Cry Later Drake')\n",
    "# df_2021.loc[47, 'lyrics'] = get_lyrics('Way 2 Sexy Drake')\n",
    "# df_2021.loc[59, 'lyrics'] = get_lyrics('Essence Wizkid')\n",
    "# df_2021.loc[62, 'lyrics'] = get_lyrics('Leave Before You Love Me Marshmello')\n",
    "# df_2021.loc[87, 'lyrics'] = get_lyrics('just the way parmalee')"
   ]
  }
 ],
 "metadata": {
  "kernelspec": {
   "display_name": "Python [conda env:.conda-mltools]",
   "language": "python",
   "name": "conda-env-.conda-mltools-py"
  },
  "language_info": {
   "codemirror_mode": {
    "name": "ipython",
    "version": 3
   },
   "file_extension": ".py",
   "mimetype": "text/x-python",
   "name": "python",
   "nbconvert_exporter": "python",
   "pygments_lexer": "ipython3",
   "version": "3.8.13"
  },
  "toc": {
   "base_numbering": 1,
   "nav_menu": {},
   "number_sections": true,
   "sideBar": true,
   "skip_h1_title": false,
   "title_cell": "Table of Contents",
   "title_sidebar": "Contents",
   "toc_cell": false,
   "toc_position": {},
   "toc_section_display": true,
   "toc_window_display": false
  }
 },
 "nbformat": 4,
 "nbformat_minor": 5
}
